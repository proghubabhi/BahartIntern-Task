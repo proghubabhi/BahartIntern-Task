{
 "cells": [
  {
   "cell_type": "code",
   "execution_count": 6,
   "id": "a99401e9",
   "metadata": {},
   "outputs": [],
   "source": [
    "import numpy as np \n",
    "import pandas as pd \n",
    "import matplotlib.pyplot as plt \n",
    "from sklearn.preprocessing import MinMaxScaler\n",
    "from keras.models import Sequential\n",
    "from keras.layers import Dense,LSTM,Dropout"
   ]
  },
  {
   "cell_type": "code",
   "execution_count": 7,
   "id": "11ac6983",
   "metadata": {},
   "outputs": [
    {
     "data": {
      "text/html": [
       "<div>\n",
       "<style scoped>\n",
       "    .dataframe tbody tr th:only-of-type {\n",
       "        vertical-align: middle;\n",
       "    }\n",
       "\n",
       "    .dataframe tbody tr th {\n",
       "        vertical-align: top;\n",
       "    }\n",
       "\n",
       "    .dataframe thead th {\n",
       "        text-align: right;\n",
       "    }\n",
       "</style>\n",
       "<table border=\"1\" class=\"dataframe\">\n",
       "  <thead>\n",
       "    <tr style=\"text-align: right;\">\n",
       "      <th></th>\n",
       "      <th>Date</th>\n",
       "      <th>Open</th>\n",
       "      <th>High</th>\n",
       "      <th>Low</th>\n",
       "      <th>Close</th>\n",
       "      <th>Volume</th>\n",
       "    </tr>\n",
       "  </thead>\n",
       "  <tbody>\n",
       "    <tr>\n",
       "      <th>0</th>\n",
       "      <td>1/3/2012</td>\n",
       "      <td>325.25</td>\n",
       "      <td>332.83</td>\n",
       "      <td>324.97</td>\n",
       "      <td>663.59</td>\n",
       "      <td>7,380,500</td>\n",
       "    </tr>\n",
       "    <tr>\n",
       "      <th>1</th>\n",
       "      <td>1/4/2012</td>\n",
       "      <td>331.27</td>\n",
       "      <td>333.87</td>\n",
       "      <td>329.08</td>\n",
       "      <td>666.45</td>\n",
       "      <td>5,749,400</td>\n",
       "    </tr>\n",
       "    <tr>\n",
       "      <th>2</th>\n",
       "      <td>1/5/2012</td>\n",
       "      <td>329.83</td>\n",
       "      <td>330.75</td>\n",
       "      <td>326.89</td>\n",
       "      <td>657.21</td>\n",
       "      <td>6,590,300</td>\n",
       "    </tr>\n",
       "    <tr>\n",
       "      <th>3</th>\n",
       "      <td>1/6/2012</td>\n",
       "      <td>328.34</td>\n",
       "      <td>328.77</td>\n",
       "      <td>323.68</td>\n",
       "      <td>648.24</td>\n",
       "      <td>5,405,900</td>\n",
       "    </tr>\n",
       "    <tr>\n",
       "      <th>4</th>\n",
       "      <td>1/9/2012</td>\n",
       "      <td>322.04</td>\n",
       "      <td>322.29</td>\n",
       "      <td>309.46</td>\n",
       "      <td>620.76</td>\n",
       "      <td>11,688,800</td>\n",
       "    </tr>\n",
       "  </tbody>\n",
       "</table>\n",
       "</div>"
      ],
      "text/plain": [
       "       Date    Open    High     Low   Close      Volume\n",
       "0  1/3/2012  325.25  332.83  324.97  663.59   7,380,500\n",
       "1  1/4/2012  331.27  333.87  329.08  666.45   5,749,400\n",
       "2  1/5/2012  329.83  330.75  326.89  657.21   6,590,300\n",
       "3  1/6/2012  328.34  328.77  323.68  648.24   5,405,900\n",
       "4  1/9/2012  322.04  322.29  309.46  620.76  11,688,800"
      ]
     },
     "execution_count": 7,
     "metadata": {},
     "output_type": "execute_result"
    }
   ],
   "source": [
    "data = pd.read_csv('Google_train_data.csv')\n",
    "data.head()"
   ]
  },
  {
   "cell_type": "code",
   "execution_count": 8,
   "id": "f67ea3cb",
   "metadata": {},
   "outputs": [
    {
     "name": "stdout",
     "output_type": "stream",
     "text": [
      "<class 'pandas.core.frame.DataFrame'>\n",
      "RangeIndex: 1258 entries, 0 to 1257\n",
      "Data columns (total 6 columns):\n",
      " #   Column  Non-Null Count  Dtype  \n",
      "---  ------  --------------  -----  \n",
      " 0   Date    1258 non-null   object \n",
      " 1   Open    1258 non-null   float64\n",
      " 2   High    1258 non-null   float64\n",
      " 3   Low     1258 non-null   float64\n",
      " 4   Close   1258 non-null   object \n",
      " 5   Volume  1258 non-null   object \n",
      "dtypes: float64(3), object(3)\n",
      "memory usage: 59.1+ KB\n"
     ]
    }
   ],
   "source": [
    "data.info()"
   ]
  },
  {
   "cell_type": "code",
   "execution_count": 9,
   "id": "86acb073",
   "metadata": {},
   "outputs": [],
   "source": [
    "data[\"Close\"]=pd.to_numeric(data.Close,errors='coerce')\n",
    "data = data.dropna()\n",
    "trainData = data.iloc[:,4:5].values"
   ]
  },
  {
   "cell_type": "code",
   "execution_count": 10,
   "id": "b62eae82",
   "metadata": {},
   "outputs": [
    {
     "name": "stdout",
     "output_type": "stream",
     "text": [
      "<class 'pandas.core.frame.DataFrame'>\n",
      "Int64Index: 1149 entries, 0 to 1257\n",
      "Data columns (total 6 columns):\n",
      " #   Column  Non-Null Count  Dtype  \n",
      "---  ------  --------------  -----  \n",
      " 0   Date    1149 non-null   object \n",
      " 1   Open    1149 non-null   float64\n",
      " 2   High    1149 non-null   float64\n",
      " 3   Low     1149 non-null   float64\n",
      " 4   Close   1149 non-null   float64\n",
      " 5   Volume  1149 non-null   object \n",
      "dtypes: float64(4), object(2)\n",
      "memory usage: 62.8+ KB\n"
     ]
    }
   ],
   "source": [
    "data.info()"
   ]
  },
  {
   "cell_type": "code",
   "execution_count": 11,
   "id": "e081c507",
   "metadata": {},
   "outputs": [
    {
     "data": {
      "text/plain": [
       "(1149, 1)"
      ]
     },
     "execution_count": 11,
     "metadata": {},
     "output_type": "execute_result"
    }
   ],
   "source": [
    "sc = MinMaxScaler(feature_range=(0,1))\n",
    "trainData = sc.fit_transform(trainData)\n",
    "trainData.shape"
   ]
  },
  {
   "cell_type": "code",
   "execution_count": 12,
   "id": "afa27476",
   "metadata": {},
   "outputs": [],
   "source": [
    "X_train = []\n",
    "y_train = []\n",
    "\n",
    "for i in range (60,1149): #60 : timestep // 1149 : length of the data\n",
    "    X_train.append(trainData[i-60:i,0]) \n",
    "    y_train.append(trainData[i,0])\n",
    "\n",
    "X_train,y_train = np.array(X_train),np.array(y_train)"
   ]
  },
  {
   "cell_type": "code",
   "execution_count": 13,
   "id": "b61f823a",
   "metadata": {},
   "outputs": [
    {
     "data": {
      "text/plain": [
       "(1089, 60, 1)"
      ]
     },
     "execution_count": 13,
     "metadata": {},
     "output_type": "execute_result"
    }
   ],
   "source": [
    "X_train = np.reshape(X_train,(X_train.shape[0],X_train.shape[1],1)) #adding the batch_size axis\n",
    "X_train.shape"
   ]
  },
  {
   "cell_type": "code",
   "execution_count": 14,
   "id": "473c0008",
   "metadata": {},
   "outputs": [],
   "source": [
    "model = Sequential()\n",
    "\n",
    "model.add(LSTM(units=100, return_sequences = True, input_shape =(X_train.shape[1],1)))\n",
    "model.add(Dropout(0.2))\n",
    "\n",
    "model.add(LSTM(units=100, return_sequences = True))\n",
    "model.add(Dropout(0.2))\n",
    "\n",
    "model.add(LSTM(units=100, return_sequences = True))\n",
    "model.add(Dropout(0.2))\n",
    "\n",
    "model.add(LSTM(units=100, return_sequences = False))\n",
    "model.add(Dropout(0.2))\n",
    "\n",
    "model.add(Dense(units =1))\n",
    "model.compile(optimizer='adam',loss=\"mean_squared_error\")"
   ]
  },
  {
   "cell_type": "code",
   "execution_count": 15,
   "id": "528c226b",
   "metadata": {},
   "outputs": [
    {
     "name": "stdout",
     "output_type": "stream",
     "text": [
      "Epoch 1/20\n",
      "35/35 - 27s - loss: 0.0339 - 27s/epoch - 760ms/step\n",
      "Epoch 2/20\n",
      "35/35 - 10s - loss: 0.0112 - 10s/epoch - 279ms/step\n",
      "Epoch 3/20\n",
      "35/35 - 9s - loss: 0.0094 - 9s/epoch - 262ms/step\n",
      "Epoch 4/20\n",
      "35/35 - 9s - loss: 0.0095 - 9s/epoch - 258ms/step\n",
      "Epoch 5/20\n",
      "35/35 - 9s - loss: 0.0084 - 9s/epoch - 248ms/step\n",
      "Epoch 6/20\n",
      "35/35 - 9s - loss: 0.0087 - 9s/epoch - 248ms/step\n",
      "Epoch 7/20\n",
      "35/35 - 9s - loss: 0.0071 - 9s/epoch - 251ms/step\n",
      "Epoch 8/20\n",
      "35/35 - 9s - loss: 0.0088 - 9s/epoch - 247ms/step\n",
      "Epoch 9/20\n",
      "35/35 - 9s - loss: 0.0066 - 9s/epoch - 247ms/step\n",
      "Epoch 10/20\n",
      "35/35 - 9s - loss: 0.0060 - 9s/epoch - 264ms/step\n",
      "Epoch 11/20\n",
      "35/35 - 9s - loss: 0.0059 - 9s/epoch - 249ms/step\n",
      "Epoch 12/20\n",
      "35/35 - 9s - loss: 0.0056 - 9s/epoch - 252ms/step\n",
      "Epoch 13/20\n",
      "35/35 - 9s - loss: 0.0054 - 9s/epoch - 251ms/step\n",
      "Epoch 14/20\n",
      "35/35 - 9s - loss: 0.0062 - 9s/epoch - 251ms/step\n",
      "Epoch 15/20\n",
      "35/35 - 9s - loss: 0.0053 - 9s/epoch - 246ms/step\n",
      "Epoch 16/20\n",
      "35/35 - 9s - loss: 0.0048 - 9s/epoch - 250ms/step\n",
      "Epoch 17/20\n",
      "35/35 - 9s - loss: 0.0049 - 9s/epoch - 248ms/step\n",
      "Epoch 18/20\n",
      "35/35 - 9s - loss: 0.0048 - 9s/epoch - 251ms/step\n",
      "Epoch 19/20\n",
      "35/35 - 9s - loss: 0.0054 - 9s/epoch - 250ms/step\n",
      "Epoch 20/20\n",
      "35/35 - 8s - loss: 0.0043 - 8s/epoch - 243ms/step\n"
     ]
    }
   ],
   "source": [
    "hist = model.fit(X_train, y_train, epochs = 20, batch_size = 32, verbose=2)"
   ]
  },
  {
   "cell_type": "code",
   "execution_count": 16,
   "id": "f1450299",
   "metadata": {},
   "outputs": [
    {
     "data": {
      "image/png": "[encoded data removed]",
      "text/plain": [
       "<Figure size 640x480 with 1 Axes>"
      ]
     },
     "metadata": {},
     "output_type": "display_data"
    }
   ],
   "source": [
    "plt.plot(hist.history['loss'])\n",
    "plt.title('Training model loss')\n",
    "plt.ylabel('loss')\n",
    "plt.xlabel('epoch')\n",
    "plt.legend(['train'], loc='upper left')\n",
    "plt.show()"
   ]
  },
  {
   "cell_type": "code",
   "execution_count": 17,
   "id": "cfe0e155",
   "metadata": {},
   "outputs": [
    {
     "data": {
      "text/plain": [
       "(192, 60, 1)"
      ]
     },
     "execution_count": 17,
     "metadata": {},
     "output_type": "execute_result"
    }
   ],
   "source": [
    "testData = pd.read_csv('Google_test_data.csv')\n",
    "testData[\"Close\"]=pd.to_numeric(testData.Close,errors='coerce')\n",
    "testData = testData.dropna()\n",
    "testData = testData.iloc[:,4:5]\n",
    "y_test = testData.iloc[60:,0:].values \n",
    "#input array for the model\n",
    "inputClosing = testData.iloc[:,0:].values \n",
    "inputClosing_scaled = sc.transform(inputClosing)\n",
    "inputClosing_scaled.shape\n",
    "X_test = []\n",
    "length = len(testData)\n",
    "timestep = 60\n",
    "for i in range(timestep,length):  \n",
    "    X_test.append(inputClosing_scaled[i-timestep:i,0])\n",
    "X_test = np.array(X_test)\n",
    "X_test = np.reshape(X_test,(X_test.shape[0],X_test.shape[1],1))\n",
    "X_test.shape"
   ]
  },
  {
   "cell_type": "code",
   "execution_count": 18,
   "id": "4675982f",
   "metadata": {},
   "outputs": [
    {
     "name": "stdout",
     "output_type": "stream",
     "text": [
      "6/6 [==============================] - 4s 100ms/step\n"
     ]
    },
    {
     "data": {
      "text/plain": [
       "array([[1.0867374 ],\n",
       "       [1.0898725 ],\n",
       "       [1.100305  ],\n",
       "       [1.1164635 ],\n",
       "       [1.1310215 ],\n",
       "       [1.1345689 ],\n",
       "       [1.1258653 ],\n",
       "       [1.1107311 ],\n",
       "       [1.0989552 ],\n",
       "       [1.0938923 ],\n",
       "       [1.087029  ],\n",
       "       [1.0766766 ],\n",
       "       [1.0667784 ],\n",
       "       [1.0575058 ],\n",
       "       [1.0541084 ],\n",
       "       [1.0568644 ],\n",
       "       [1.0716183 ],\n",
       "       [1.0968155 ],\n",
       "       [1.127428  ],\n",
       "       [1.1592255 ],\n",
       "       [1.1761656 ],\n",
       "       [1.1777918 ],\n",
       "       [1.1625719 ],\n",
       "       [1.1367376 ],\n",
       "       [1.1105382 ],\n",
       "       [1.0925815 ],\n",
       "       [1.0848572 ],\n",
       "       [1.0817248 ],\n",
       "       [1.0747658 ],\n",
       "       [1.0648394 ],\n",
       "       [1.0536926 ],\n",
       "       [1.0411104 ],\n",
       "       [1.0231159 ],\n",
       "       [1.0006841 ],\n",
       "       [0.9891574 ],\n",
       "       [0.99453694],\n",
       "       [1.0126333 ],\n",
       "       [1.0358838 ],\n",
       "       [1.0596449 ],\n",
       "       [1.0746248 ],\n",
       "       [1.0884314 ],\n",
       "       [1.1036738 ],\n",
       "       [1.1207145 ],\n",
       "       [1.1368937 ],\n",
       "       [1.1486416 ],\n",
       "       [1.1518898 ],\n",
       "       [1.1445597 ],\n",
       "       [1.1358104 ],\n",
       "       [1.1313893 ],\n",
       "       [1.1340032 ],\n",
       "       [1.1436586 ],\n",
       "       [1.1516101 ],\n",
       "       [1.154737  ],\n",
       "       [1.152884  ],\n",
       "       [1.1511396 ],\n",
       "       [1.1475974 ],\n",
       "       [1.1401002 ],\n",
       "       [1.1351794 ],\n",
       "       [1.1408079 ],\n",
       "       [1.1554215 ],\n",
       "       [1.1782918 ],\n",
       "       [1.2071757 ],\n",
       "       [1.2301412 ],\n",
       "       [1.2382146 ],\n",
       "       [1.2310671 ],\n",
       "       [1.2141253 ],\n",
       "       [1.1993579 ],\n",
       "       [1.1917157 ],\n",
       "       [1.1914314 ],\n",
       "       [1.194402  ],\n",
       "       [1.1986101 ],\n",
       "       [1.2016892 ],\n",
       "       [1.1994078 ],\n",
       "       [1.194748  ],\n",
       "       [1.1901343 ],\n",
       "       [1.1880682 ],\n",
       "       [1.1890963 ],\n",
       "       [1.1931047 ],\n",
       "       [1.2030754 ],\n",
       "       [1.2189484 ],\n",
       "       [1.2401805 ],\n",
       "       [1.2618544 ],\n",
       "       [1.2764115 ],\n",
       "       [1.281305  ],\n",
       "       [1.285233  ],\n",
       "       [1.2951862 ],\n",
       "       [1.3104485 ],\n",
       "       [1.3250911 ],\n",
       "       [1.3348043 ],\n",
       "       [1.3382913 ],\n",
       "       [1.3397387 ],\n",
       "       [1.3465648 ],\n",
       "       [1.3604392 ],\n",
       "       [1.3717611 ],\n",
       "       [1.3731382 ],\n",
       "       [1.3629863 ],\n",
       "       [1.3429978 ],\n",
       "       [1.3179947 ],\n",
       "       [1.2949247 ],\n",
       "       [1.2826781 ],\n",
       "       [1.2837745 ],\n",
       "       [1.2959532 ],\n",
       "       [1.3156639 ],\n",
       "       [1.3355937 ],\n",
       "       [1.3502235 ],\n",
       "       [1.3564026 ],\n",
       "       [1.3562526 ],\n",
       "       [1.3531828 ],\n",
       "       [1.3524822 ],\n",
       "       [1.3559074 ],\n",
       "       [1.3634341 ],\n",
       "       [1.3747804 ],\n",
       "       [1.387245  ],\n",
       "       [1.4007806 ],\n",
       "       [1.4170585 ],\n",
       "       [1.431789  ],\n",
       "       [1.4435725 ],\n",
       "       [1.4533503 ],\n",
       "       [1.4643279 ],\n",
       "       [1.4520569 ],\n",
       "       [1.4117365 ],\n",
       "       [1.3548853 ],\n",
       "       [1.3025184 ],\n",
       "       [1.2671018 ],\n",
       "       [1.2480037 ],\n",
       "       [1.2401626 ],\n",
       "       [1.2387166 ],\n",
       "       [1.2412933 ],\n",
       "       [1.2394866 ],\n",
       "       [1.2298164 ],\n",
       "       [1.2244425 ],\n",
       "       [1.2312508 ],\n",
       "       [1.2454088 ],\n",
       "       [1.256099  ],\n",
       "       [1.2616091 ],\n",
       "       [1.2633635 ],\n",
       "       [1.2608922 ],\n",
       "       [1.2539897 ],\n",
       "       [1.2447901 ],\n",
       "       [1.2320888 ],\n",
       "       [1.2180134 ],\n",
       "       [1.2023966 ],\n",
       "       [1.1734803 ],\n",
       "       [1.1370537 ],\n",
       "       [1.0998397 ],\n",
       "       [1.0688595 ],\n",
       "       [1.052254  ],\n",
       "       [1.0537701 ],\n",
       "       [1.0695477 ],\n",
       "       [1.092287  ],\n",
       "       [1.1175683 ],\n",
       "       [1.1404796 ],\n",
       "       [1.1593133 ],\n",
       "       [1.1752832 ],\n",
       "       [1.1880083 ],\n",
       "       [1.1986377 ],\n",
       "       [1.2091184 ],\n",
       "       [1.2176497 ],\n",
       "       [1.2168415 ],\n",
       "       [1.2049828 ],\n",
       "       [1.1851966 ],\n",
       "       [1.1639414 ],\n",
       "       [1.1494505 ],\n",
       "       [1.1468291 ],\n",
       "       [1.156693  ],\n",
       "       [1.1765141 ],\n",
       "       [1.1972837 ],\n",
       "       [1.2147834 ],\n",
       "       [1.2301962 ],\n",
       "       [1.2440624 ],\n",
       "       [1.2556068 ],\n",
       "       [1.2648942 ],\n",
       "       [1.2721131 ],\n",
       "       [1.2753876 ],\n",
       "       [1.2745097 ],\n",
       "       [1.2670996 ],\n",
       "       [1.2564363 ],\n",
       "       [1.2475238 ],\n",
       "       [1.2406979 ],\n",
       "       [1.234637  ],\n",
       "       [1.2540675 ],\n",
       "       [1.2974553 ],\n",
       "       [1.3480211 ],\n",
       "       [1.3890498 ],\n",
       "       [1.4112327 ],\n",
       "       [1.4115975 ],\n",
       "       [1.3865123 ],\n",
       "       [1.3491515 ],\n",
       "       [1.312795  ],\n",
       "       [1.2919209 ],\n",
       "       [1.2851148 ],\n",
       "       [1.2846668 ]], dtype=float32)"
      ]
     },
     "execution_count": 18,
     "metadata": {},
     "output_type": "execute_result"
    }
   ],
   "source": [
    "y_pred = model.predict(X_test)\n",
    "y_pred"
   ]
  },
  {
   "cell_type": "code",
   "execution_count": 19,
   "id": "e209dfa8",
   "metadata": {},
   "outputs": [],
   "source": [
    "predicted_price = sc.inverse_transform(y_pred)"
   ]
  },
  {
   "cell_type": "code",
   "execution_count": 20,
   "id": "41cc68a3",
   "metadata": {},
   "outputs": [
    {
     "data": {
      "image/png": "[encoded data removed]",
      "text/plain": [
       "<Figure size 640x480 with 1 Axes>"
      ]
     },
     "metadata": {},
     "output_type": "display_data"
    }
   ],
   "source": [
    "plt.plot(y_test, color = 'red', label = 'Actual Stock Price')\n",
    "plt.plot(predicted_price, color = 'green', label = 'Predicted Stock Price')\n",
    "plt.title('Google stock price prediction')\n",
    "plt.xlabel('Time')\n",
    "plt.ylabel('Stock Price')\n",
    "plt.legend()\n",
    "plt.show()"
   ]
  },
  {
   "cell_type": "code",
   "execution_count": null,
   "id": "292ba8b5",
   "metadata": {},
   "outputs": [],
   "source": []
  }
 ],
 "metadata": {
  "kernelspec": {
   "display_name": "Python 3 (ipykernel)",
   "language": "python",
   "name": "python3"
  },
  "language_info": {
   "codemirror_mode": {
    "name": "ipython",
    "version": 3
   },
   "file_extension": ".py",
   "mimetype": "text/x-python",
   "name": "python",
   "nbconvert_exporter": "python",
   "pygments_lexer": "ipython3",
   "version": "3.11.4"
  }
 },
 "nbformat": 4,
 "nbformat_minor": 5
}
